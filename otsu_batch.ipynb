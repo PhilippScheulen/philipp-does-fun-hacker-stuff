{
 "cells": [
  {
   "cell_type": "markdown",
   "metadata": {},
   "source": [
    "# [Lab Session 2](otsu.ipynb)"
   ]
  },
  {
   "cell_type": "code",
   "execution_count": 1,
   "metadata": {},
   "outputs": [],
   "source": [
    "import numpy as np\n",
    "import matplotlib.pyplot as plt"
   ]
  },
  {
   "cell_type": "markdown",
   "metadata": {},
   "source": [
    "**[Task 2.1.]()** Implement Otsu thresholding as a re-usable function:"
   ]
  },
  {
   "cell_type": "code",
   "execution_count": 6,
   "metadata": {},
   "outputs": [
    {
     "ename": "SyntaxError",
     "evalue": "'return' outside function (1337732072.py, line 48)",
     "output_type": "error",
     "traceback": [
      "\u001b[0;36m  Cell \u001b[0;32mIn[6], line 48\u001b[0;36m\u001b[0m\n\u001b[0;31m    return seg\u001b[0m\n\u001b[0m    ^\u001b[0m\n\u001b[0;31mSyntaxError\u001b[0m\u001b[0;31m:\u001b[0m 'return' outside function\n"
     ]
    }
   ],
   "source": [
    "def otsu_thresholding(imgf):\n",
    "    img8 = (imgf * 255).round().astype(np.uint8)\n",
    "    h = np.zeros(255)\n",
    "    for x in range(255):\n",
    "            h[x]= np.sum(img8 == x)\n",
    "    \n",
    "    mini= float('inf')\n",
    "    best_T = 0\n",
    "\n",
    "    for T in range(0,256):\n",
    "        h1 = h[0:T]\n",
    "        h2 = h[T:256]\n",
    "\n",
    "        # Number of pixels\n",
    "        Nh1 = np.sum(h1)\n",
    "        Nh2 = np.sum(h2)\n",
    "\n",
    "        #mean intensity\n",
    "        intensity_1 = 0\n",
    "        for i in range(len(h1)):\n",
    "            intensity_1 += i * h1[i]\n",
    "\n",
    "        mean_intensity_1 = 1/Nh1 * intensity_1\n",
    "\n",
    "        intensity_2 = 0\n",
    "        for i in range(len(h2)):\n",
    "            intensity_2 += i * h2[i]\n",
    "        mean_intensity_2 = 1/Nh1 * intensity_2\n",
    "\n",
    "        #intensity variance\n",
    "        variance_1 = 0\n",
    "        for i in range(len(h1)):\n",
    "            variance_1 += (i - mean_intensity_1)**2 * h1[i]\n",
    "        intensity_variance_1 = 1/Nh1 * variance_1\n",
    "\n",
    "        variance_2 = 0\n",
    "        for i in range(len(h2)):\n",
    "            variance_2 += (i - mean_intensity_2)**2 * h2[i]\n",
    "        intensity_variance_2 = 1/Nh1 * variance_2\n",
    "\n",
    "        # otsu equation\n",
    "        Otsu = Nh1 * intensity_variance_1 + Nh2 * intensity_variance_2\n",
    "\n",
    "        if Otsu < mini:\n",
    "            mini = Otsu\n",
    "            best_T = T\n",
    "    print(best_T)        \n",
    "return seg"
   ]
  },
  {
   "cell_type": "markdown",
   "metadata": {},
   "source": [
    "**[Task 2.2.]()** Implement a re-usable function to compute the Dice coefficient:"
   ]
  },
  {
   "cell_type": "code",
   "execution_count": null,
   "metadata": {},
   "outputs": [],
   "source": [
    "def compute_dice(bin1, bin2):\n",
    "    assert bin1.dtype == np.bool\n",
    "    assert bin2.dtype == np.bool\n",
    "    \n",
    "    ...\n",
    "    \n",
    "    return dice"
   ]
  },
  {
   "cell_type": "markdown",
   "metadata": {},
   "source": [
    "**[Task 2.3.]()** Test your implementations from above:"
   ]
  },
  {
   "cell_type": "code",
   "execution_count": null,
   "metadata": {},
   "outputs": [],
   "source": []
  },
  {
   "cell_type": "markdown",
   "metadata": {},
   "source": [
    "The result should be the same as in your [otsu.ipynb](otsu.ipynb) notebook."
   ]
  },
  {
   "cell_type": "markdown",
   "metadata": {},
   "source": [
    "**[Task 2.4.]()** Perform batch processing:"
   ]
  },
  {
   "cell_type": "code",
   "execution_count": null,
   "metadata": {},
   "outputs": [],
   "source": []
  }
 ],
 "metadata": {
  "kernelspec": {
   "display_name": "Python 3",
   "language": "python",
   "name": "python3"
  },
  "language_info": {
   "codemirror_mode": {
    "name": "ipython",
    "version": 3
   },
   "file_extension": ".py",
   "mimetype": "text/x-python",
   "name": "python",
   "nbconvert_exporter": "python",
   "pygments_lexer": "ipython3",
   "version": "3.12.7"
  }
 },
 "nbformat": 4,
 "nbformat_minor": 4
}
